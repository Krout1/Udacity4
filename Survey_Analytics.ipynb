{
 "cells": [
  {
   "cell_type": "markdown",
   "metadata": {},
   "source": [
    "# Business Understanding"
   ]
  },
  {
   "cell_type": "markdown",
   "metadata": {},
   "source": [
    "IT develops more an more different programming languages for a lot of different use cases. Using my data analytics skills, I want to know more about that topic. There for, I will use the data of Stack Overflow's developer survey data from 2017, to answer the following questions."
   ]
  },
  {
   "cell_type": "markdown",
   "metadata": {},
   "source": [
    "1. Having a lot of IT developed in the US, what are the most commonly known languages used by professionals?\n",
    "2. Are there any correlations of the knowlede of programming languages, e.g. do most people, who knows C, know JavaScript as well?\n"
   ]
  },
  {
   "cell_type": "markdown",
   "metadata": {},
   "source": [
    "# Data Understanding"
   ]
  },
  {
   "cell_type": "markdown",
   "metadata": {},
   "source": [
    "As already mentioned, the analysis is based on Stack Overflow's developer survey data from 2017. In this survey, respondents from about 200 countries gave their answers to about 150 survey questions."
   ]
  },
  {
   "cell_type": "markdown",
   "metadata": {},
   "source": [
    "## Date Gathering and basic understanding"
   ]
  },
  {
   "cell_type": "code",
   "execution_count": 1,
   "metadata": {},
   "outputs": [],
   "source": [
    "import numpy as np\n",
    "import pandas as pd\n",
    "import matplotlib.pyplot as plt\n",
    "from sklearn import preprocessing"
   ]
  },
  {
   "cell_type": "code",
   "execution_count": 2,
   "metadata": {},
   "outputs": [],
   "source": [
    "raw_data = pd.read_csv('data\\survey_results_public.csv')"
   ]
  },
  {
   "cell_type": "code",
   "execution_count": 3,
   "metadata": {},
   "outputs": [
    {
     "data": {
      "text/plain": [
       "(51392, 154)"
      ]
     },
     "execution_count": 3,
     "metadata": {},
     "output_type": "execute_result"
    }
   ],
   "source": [
    "raw_data.shape"
   ]
  },
  {
   "cell_type": "markdown",
   "metadata": {},
   "source": [
    "Total responses of the survey is 51392 answering 154 questions."
   ]
  },
  {
   "cell_type": "code",
   "execution_count": 4,
   "metadata": {},
   "outputs": [
    {
     "data": {
      "text/html": [
       "<div>\n",
       "<style scoped>\n",
       "    .dataframe tbody tr th:only-of-type {\n",
       "        vertical-align: middle;\n",
       "    }\n",
       "\n",
       "    .dataframe tbody tr th {\n",
       "        vertical-align: top;\n",
       "    }\n",
       "\n",
       "    .dataframe thead th {\n",
       "        text-align: right;\n",
       "    }\n",
       "</style>\n",
       "<table border=\"1\" class=\"dataframe\">\n",
       "  <thead>\n",
       "    <tr style=\"text-align: right;\">\n",
       "      <th></th>\n",
       "      <th>Respondent</th>\n",
       "      <th>CareerSatisfaction</th>\n",
       "      <th>JobSatisfaction</th>\n",
       "      <th>HoursPerWeek</th>\n",
       "      <th>StackOverflowSatisfaction</th>\n",
       "      <th>Salary</th>\n",
       "      <th>ExpectedSalary</th>\n",
       "    </tr>\n",
       "  </thead>\n",
       "  <tbody>\n",
       "    <tr>\n",
       "      <th>count</th>\n",
       "      <td>51392.000000</td>\n",
       "      <td>42695.000000</td>\n",
       "      <td>40376.000000</td>\n",
       "      <td>20600.000000</td>\n",
       "      <td>36592.000000</td>\n",
       "      <td>12891.000000</td>\n",
       "      <td>2566.000000</td>\n",
       "    </tr>\n",
       "    <tr>\n",
       "      <th>mean</th>\n",
       "      <td>25696.500000</td>\n",
       "      <td>7.300574</td>\n",
       "      <td>6.957078</td>\n",
       "      <td>3.952282</td>\n",
       "      <td>8.429875</td>\n",
       "      <td>56298.480641</td>\n",
       "      <td>33142.220468</td>\n",
       "    </tr>\n",
       "    <tr>\n",
       "      <th>std</th>\n",
       "      <td>14835.736854</td>\n",
       "      <td>1.955444</td>\n",
       "      <td>2.167652</td>\n",
       "      <td>7.564722</td>\n",
       "      <td>1.390635</td>\n",
       "      <td>39880.905277</td>\n",
       "      <td>30162.988829</td>\n",
       "    </tr>\n",
       "    <tr>\n",
       "      <th>min</th>\n",
       "      <td>1.000000</td>\n",
       "      <td>0.000000</td>\n",
       "      <td>0.000000</td>\n",
       "      <td>0.000000</td>\n",
       "      <td>0.000000</td>\n",
       "      <td>0.000000</td>\n",
       "      <td>0.000000</td>\n",
       "    </tr>\n",
       "    <tr>\n",
       "      <th>25%</th>\n",
       "      <td>12848.750000</td>\n",
       "      <td>6.000000</td>\n",
       "      <td>6.000000</td>\n",
       "      <td>1.000000</td>\n",
       "      <td>8.000000</td>\n",
       "      <td>26440.371839</td>\n",
       "      <td>4490.492484</td>\n",
       "    </tr>\n",
       "    <tr>\n",
       "      <th>50%</th>\n",
       "      <td>25696.500000</td>\n",
       "      <td>8.000000</td>\n",
       "      <td>7.000000</td>\n",
       "      <td>1.000000</td>\n",
       "      <td>9.000000</td>\n",
       "      <td>50000.000000</td>\n",
       "      <td>29364.263691</td>\n",
       "    </tr>\n",
       "    <tr>\n",
       "      <th>75%</th>\n",
       "      <td>38544.250000</td>\n",
       "      <td>9.000000</td>\n",
       "      <td>8.000000</td>\n",
       "      <td>4.000000</td>\n",
       "      <td>10.000000</td>\n",
       "      <td>80000.000000</td>\n",
       "      <td>50403.225806</td>\n",
       "    </tr>\n",
       "    <tr>\n",
       "      <th>max</th>\n",
       "      <td>51392.000000</td>\n",
       "      <td>10.000000</td>\n",
       "      <td>10.000000</td>\n",
       "      <td>40.000000</td>\n",
       "      <td>10.000000</td>\n",
       "      <td>197000.000000</td>\n",
       "      <td>187500.000000</td>\n",
       "    </tr>\n",
       "  </tbody>\n",
       "</table>\n",
       "</div>"
      ],
      "text/plain": [
       "         Respondent  CareerSatisfaction  JobSatisfaction  HoursPerWeek  \\\n",
       "count  51392.000000        42695.000000     40376.000000  20600.000000   \n",
       "mean   25696.500000            7.300574         6.957078      3.952282   \n",
       "std    14835.736854            1.955444         2.167652      7.564722   \n",
       "min        1.000000            0.000000         0.000000      0.000000   \n",
       "25%    12848.750000            6.000000         6.000000      1.000000   \n",
       "50%    25696.500000            8.000000         7.000000      1.000000   \n",
       "75%    38544.250000            9.000000         8.000000      4.000000   \n",
       "max    51392.000000           10.000000        10.000000     40.000000   \n",
       "\n",
       "       StackOverflowSatisfaction         Salary  ExpectedSalary  \n",
       "count               36592.000000   12891.000000     2566.000000  \n",
       "mean                    8.429875   56298.480641    33142.220468  \n",
       "std                     1.390635   39880.905277    30162.988829  \n",
       "min                     0.000000       0.000000        0.000000  \n",
       "25%                     8.000000   26440.371839     4490.492484  \n",
       "50%                     9.000000   50000.000000    29364.263691  \n",
       "75%                    10.000000   80000.000000    50403.225806  \n",
       "max                    10.000000  197000.000000   187500.000000  "
      ]
     },
     "execution_count": 4,
     "metadata": {},
     "output_type": "execute_result"
    }
   ],
   "source": [
    "raw_data.describe()"
   ]
  },
  {
   "cell_type": "code",
   "execution_count": 5,
   "metadata": {},
   "outputs": [
    {
     "data": {
      "text/html": [
       "<div>\n",
       "<style scoped>\n",
       "    .dataframe tbody tr th:only-of-type {\n",
       "        vertical-align: middle;\n",
       "    }\n",
       "\n",
       "    .dataframe tbody tr th {\n",
       "        vertical-align: top;\n",
       "    }\n",
       "\n",
       "    .dataframe thead th {\n",
       "        text-align: right;\n",
       "    }\n",
       "</style>\n",
       "<table border=\"1\" class=\"dataframe\">\n",
       "  <thead>\n",
       "    <tr style=\"text-align: right;\">\n",
       "      <th></th>\n",
       "      <th>Respondent</th>\n",
       "      <th>Professional</th>\n",
       "      <th>ProgramHobby</th>\n",
       "      <th>Country</th>\n",
       "      <th>University</th>\n",
       "      <th>EmploymentStatus</th>\n",
       "      <th>FormalEducation</th>\n",
       "      <th>MajorUndergrad</th>\n",
       "      <th>HomeRemote</th>\n",
       "      <th>CompanySize</th>\n",
       "      <th>...</th>\n",
       "      <th>StackOverflowMakeMoney</th>\n",
       "      <th>Gender</th>\n",
       "      <th>HighestEducationParents</th>\n",
       "      <th>Race</th>\n",
       "      <th>SurveyLong</th>\n",
       "      <th>QuestionsInteresting</th>\n",
       "      <th>QuestionsConfusing</th>\n",
       "      <th>InterestedAnswers</th>\n",
       "      <th>Salary</th>\n",
       "      <th>ExpectedSalary</th>\n",
       "    </tr>\n",
       "  </thead>\n",
       "  <tbody>\n",
       "    <tr>\n",
       "      <th>0</th>\n",
       "      <td>1</td>\n",
       "      <td>Student</td>\n",
       "      <td>Yes, both</td>\n",
       "      <td>United States</td>\n",
       "      <td>No</td>\n",
       "      <td>Not employed, and not looking for work</td>\n",
       "      <td>Secondary school</td>\n",
       "      <td>NaN</td>\n",
       "      <td>NaN</td>\n",
       "      <td>NaN</td>\n",
       "      <td>...</td>\n",
       "      <td>Strongly disagree</td>\n",
       "      <td>Male</td>\n",
       "      <td>High school</td>\n",
       "      <td>White or of European descent</td>\n",
       "      <td>Strongly disagree</td>\n",
       "      <td>Strongly agree</td>\n",
       "      <td>Disagree</td>\n",
       "      <td>Strongly agree</td>\n",
       "      <td>NaN</td>\n",
       "      <td>NaN</td>\n",
       "    </tr>\n",
       "    <tr>\n",
       "      <th>1</th>\n",
       "      <td>2</td>\n",
       "      <td>Student</td>\n",
       "      <td>Yes, both</td>\n",
       "      <td>United Kingdom</td>\n",
       "      <td>Yes, full-time</td>\n",
       "      <td>Employed part-time</td>\n",
       "      <td>Some college/university study without earning ...</td>\n",
       "      <td>Computer science or software engineering</td>\n",
       "      <td>More than half, but not all, the time</td>\n",
       "      <td>20 to 99 employees</td>\n",
       "      <td>...</td>\n",
       "      <td>Strongly disagree</td>\n",
       "      <td>Male</td>\n",
       "      <td>A master's degree</td>\n",
       "      <td>White or of European descent</td>\n",
       "      <td>Somewhat agree</td>\n",
       "      <td>Somewhat agree</td>\n",
       "      <td>Disagree</td>\n",
       "      <td>Strongly agree</td>\n",
       "      <td>NaN</td>\n",
       "      <td>37500.0</td>\n",
       "    </tr>\n",
       "    <tr>\n",
       "      <th>2</th>\n",
       "      <td>3</td>\n",
       "      <td>Professional developer</td>\n",
       "      <td>Yes, both</td>\n",
       "      <td>United Kingdom</td>\n",
       "      <td>No</td>\n",
       "      <td>Employed full-time</td>\n",
       "      <td>Bachelor's degree</td>\n",
       "      <td>Computer science or software engineering</td>\n",
       "      <td>Less than half the time, but at least one day ...</td>\n",
       "      <td>10,000 or more employees</td>\n",
       "      <td>...</td>\n",
       "      <td>Disagree</td>\n",
       "      <td>Male</td>\n",
       "      <td>A professional degree</td>\n",
       "      <td>White or of European descent</td>\n",
       "      <td>Somewhat agree</td>\n",
       "      <td>Agree</td>\n",
       "      <td>Disagree</td>\n",
       "      <td>Agree</td>\n",
       "      <td>113750.0</td>\n",
       "      <td>NaN</td>\n",
       "    </tr>\n",
       "    <tr>\n",
       "      <th>3</th>\n",
       "      <td>4</td>\n",
       "      <td>Professional non-developer who sometimes write...</td>\n",
       "      <td>Yes, both</td>\n",
       "      <td>United States</td>\n",
       "      <td>No</td>\n",
       "      <td>Employed full-time</td>\n",
       "      <td>Doctoral degree</td>\n",
       "      <td>A non-computer-focused engineering discipline</td>\n",
       "      <td>Less than half the time, but at least one day ...</td>\n",
       "      <td>10,000 or more employees</td>\n",
       "      <td>...</td>\n",
       "      <td>Disagree</td>\n",
       "      <td>Male</td>\n",
       "      <td>A doctoral degree</td>\n",
       "      <td>White or of European descent</td>\n",
       "      <td>Agree</td>\n",
       "      <td>Agree</td>\n",
       "      <td>Somewhat agree</td>\n",
       "      <td>Strongly agree</td>\n",
       "      <td>NaN</td>\n",
       "      <td>NaN</td>\n",
       "    </tr>\n",
       "    <tr>\n",
       "      <th>4</th>\n",
       "      <td>5</td>\n",
       "      <td>Professional developer</td>\n",
       "      <td>Yes, I program as a hobby</td>\n",
       "      <td>Switzerland</td>\n",
       "      <td>No</td>\n",
       "      <td>Employed full-time</td>\n",
       "      <td>Master's degree</td>\n",
       "      <td>Computer science or software engineering</td>\n",
       "      <td>Never</td>\n",
       "      <td>10 to 19 employees</td>\n",
       "      <td>...</td>\n",
       "      <td>NaN</td>\n",
       "      <td>NaN</td>\n",
       "      <td>NaN</td>\n",
       "      <td>NaN</td>\n",
       "      <td>NaN</td>\n",
       "      <td>NaN</td>\n",
       "      <td>NaN</td>\n",
       "      <td>NaN</td>\n",
       "      <td>NaN</td>\n",
       "      <td>NaN</td>\n",
       "    </tr>\n",
       "  </tbody>\n",
       "</table>\n",
       "<p>5 rows × 154 columns</p>\n",
       "</div>"
      ],
      "text/plain": [
       "   Respondent                                       Professional  \\\n",
       "0           1                                            Student   \n",
       "1           2                                            Student   \n",
       "2           3                             Professional developer   \n",
       "3           4  Professional non-developer who sometimes write...   \n",
       "4           5                             Professional developer   \n",
       "\n",
       "                ProgramHobby         Country      University  \\\n",
       "0                  Yes, both   United States              No   \n",
       "1                  Yes, both  United Kingdom  Yes, full-time   \n",
       "2                  Yes, both  United Kingdom              No   \n",
       "3                  Yes, both   United States              No   \n",
       "4  Yes, I program as a hobby     Switzerland              No   \n",
       "\n",
       "                         EmploymentStatus  \\\n",
       "0  Not employed, and not looking for work   \n",
       "1                      Employed part-time   \n",
       "2                      Employed full-time   \n",
       "3                      Employed full-time   \n",
       "4                      Employed full-time   \n",
       "\n",
       "                                     FormalEducation  \\\n",
       "0                                   Secondary school   \n",
       "1  Some college/university study without earning ...   \n",
       "2                                  Bachelor's degree   \n",
       "3                                    Doctoral degree   \n",
       "4                                    Master's degree   \n",
       "\n",
       "                                  MajorUndergrad  \\\n",
       "0                                            NaN   \n",
       "1       Computer science or software engineering   \n",
       "2       Computer science or software engineering   \n",
       "3  A non-computer-focused engineering discipline   \n",
       "4       Computer science or software engineering   \n",
       "\n",
       "                                          HomeRemote  \\\n",
       "0                                                NaN   \n",
       "1              More than half, but not all, the time   \n",
       "2  Less than half the time, but at least one day ...   \n",
       "3  Less than half the time, but at least one day ...   \n",
       "4                                              Never   \n",
       "\n",
       "                CompanySize       ...       StackOverflowMakeMoney Gender  \\\n",
       "0                       NaN       ...            Strongly disagree   Male   \n",
       "1        20 to 99 employees       ...            Strongly disagree   Male   \n",
       "2  10,000 or more employees       ...                     Disagree   Male   \n",
       "3  10,000 or more employees       ...                     Disagree   Male   \n",
       "4        10 to 19 employees       ...                          NaN    NaN   \n",
       "\n",
       "  HighestEducationParents                          Race         SurveyLong  \\\n",
       "0             High school  White or of European descent  Strongly disagree   \n",
       "1       A master's degree  White or of European descent     Somewhat agree   \n",
       "2   A professional degree  White or of European descent     Somewhat agree   \n",
       "3       A doctoral degree  White or of European descent              Agree   \n",
       "4                     NaN                           NaN                NaN   \n",
       "\n",
       "  QuestionsInteresting QuestionsConfusing InterestedAnswers    Salary  \\\n",
       "0       Strongly agree           Disagree    Strongly agree       NaN   \n",
       "1       Somewhat agree           Disagree    Strongly agree       NaN   \n",
       "2                Agree           Disagree             Agree  113750.0   \n",
       "3                Agree     Somewhat agree    Strongly agree       NaN   \n",
       "4                  NaN                NaN               NaN       NaN   \n",
       "\n",
       "   ExpectedSalary  \n",
       "0             NaN  \n",
       "1         37500.0  \n",
       "2             NaN  \n",
       "3             NaN  \n",
       "4             NaN  \n",
       "\n",
       "[5 rows x 154 columns]"
      ]
     },
     "execution_count": 5,
     "metadata": {},
     "output_type": "execute_result"
    }
   ],
   "source": [
    "raw_data.head()"
   ]
  },
  {
   "cell_type": "markdown",
   "metadata": {},
   "source": [
    "General view analysis helps to get an flexible insight into different rows."
   ]
  },
  {
   "cell_type": "code",
   "execution_count": 6,
   "metadata": {},
   "outputs": [],
   "source": [
    "useCases =  ['Country','YearsProgram','ProblemSolving','LearningNewTech' ]"
   ]
  },
  {
   "cell_type": "code",
   "execution_count": 7,
   "metadata": {},
   "outputs": [
    {
     "data": {
      "image/png": "[encoded data removed]",
      "text/plain": [
       "<Figure size 1008x864 with 4 Axes>"
      ]
     },
     "metadata": {},
     "output_type": "display_data"
    }
   ],
   "source": [
    "cols =1\n",
    "rows = len(useCases) //cols\n",
    "fig, axs = plt.subplots(rows, cols, figsize=(14, 12),)\n",
    "\n",
    "for ax, case in zip(axs.flat, useCases):\n",
    "    ax.plot(raw_data[case].value_counts()[:12])\n",
    "    ax.set_title(case)\n",
    "    ax.set_xlabel(case)\n",
    "    ax.set_ylabel('Count')\n",
    "plt.tight_layout()\n",
    "plt.show()"
   ]
  },
  {
   "cell_type": "code",
   "execution_count": 8,
   "metadata": {},
   "outputs": [
    {
     "data": {
      "text/plain": [
       "Text(0.5,0,'Percent Missing Vals')"
      ]
     },
     "execution_count": 8,
     "metadata": {},
     "output_type": "execute_result"
    },
    {
     "data": {
      "image/png": "[encoded data removed]",
      "text/plain": [
       "<Figure size 432x288 with 1 Axes>"
      ]
     },
     "metadata": {},
     "output_type": "display_data"
    }
   ],
   "source": [
    "percent_na_column = (raw_data.isnull().sum()/raw_data.shape[0])*100\n",
    "plt.hist(percent_na_column, bins=50)\n",
    "plt.ylabel('Num Columns')\n",
    "plt.xlabel('Percent Missing Vals')"
   ]
  },
  {
   "cell_type": "code",
   "execution_count": 9,
   "metadata": {},
   "outputs": [
    {
     "data": {
      "text/plain": [
       "Respondent                      0.000000\n",
       "Professional                    0.000000\n",
       "ProgramHobby                    0.000000\n",
       "Country                         0.000000\n",
       "University                      0.000000\n",
       "EmploymentStatus                0.000000\n",
       "FormalEducation                 0.000000\n",
       "MajorUndergrad                 16.638776\n",
       "HomeRemote                     14.367995\n",
       "CompanySize                    24.264477\n",
       "CompanyType                    24.457114\n",
       "YearsProgram                    0.480620\n",
       "YearsCodedJob                  20.435087\n",
       "YearsCodedJobPast              98.104763\n",
       "DeveloperType                  29.706958\n",
       "WebDeveloperType               79.187422\n",
       "MobileDeveloperType            96.978129\n",
       "NonDeveloperType               90.484900\n",
       "CareerSatisfaction             16.922867\n",
       "JobSatisfaction                21.435243\n",
       "ExCoderReturn                  98.204001\n",
       "ExCoderNotForMe                98.207892\n",
       "ExCoderBalance                 98.204001\n",
       "ExCoder10Years                 98.215676\n",
       "ExCoderBelonged                98.194271\n",
       "ExCoderSkills                  98.180651\n",
       "ExCoderWillNotCode             98.205946\n",
       "ExCoderActive                  98.190380\n",
       "PronounceGIF                    0.747198\n",
       "ProblemSolving                 39.109200\n",
       "                                 ...    \n",
       "InfluenceRecruitment           57.997354\n",
       "InfluenceCommunication         58.012920\n",
       "StackOverflowDescribes         28.136675\n",
       "StackOverflowSatisfaction      28.798257\n",
       "StackOverflowDevices           31.501012\n",
       "StackOverflowFoundAnswer       33.277553\n",
       "StackOverflowCopiedCode        34.018913\n",
       "StackOverflowJobListing        34.877024\n",
       "StackOverflowCompanyPage       34.941236\n",
       "StackOverflowJobSearch         34.980153\n",
       "StackOverflowNewQuestion       34.585149\n",
       "StackOverflowAnswer            34.705791\n",
       "StackOverflowMetaChat          34.995719\n",
       "StackOverflowAdsRelevant       40.035414\n",
       "StackOverflowAdsDistracting    38.245252\n",
       "StackOverflowModeration        41.374144\n",
       "StackOverflowCommunity         36.935710\n",
       "StackOverflowHelpful           33.946918\n",
       "StackOverflowBetter            34.522883\n",
       "StackOverflowWhatDo            35.069661\n",
       "StackOverflowMakeMoney         39.558686\n",
       "Gender                         31.804561\n",
       "HighestEducationParents        32.016656\n",
       "Race                           35.723459\n",
       "SurveyLong                     32.440847\n",
       "QuestionsInteresting           32.798879\n",
       "QuestionsConfusing             33.026541\n",
       "InterestedAnswers              32.650996\n",
       "Salary                         74.916329\n",
       "ExpectedSalary                 95.007005\n",
       "Length: 154, dtype: float64"
      ]
     },
     "execution_count": 9,
     "metadata": {},
     "output_type": "execute_result"
    }
   ],
   "source": [
    "percent_na_column"
   ]
  },
  {
   "cell_type": "markdown",
   "metadata": {},
   "source": [
    "## Answering question 1 "
   ]
  },
  {
   "cell_type": "markdown",
   "metadata": {},
   "source": [
    "Having a lot of IT developed in the US, what are the most commonly known languages used by professionals?\n"
   ]
  },
  {
   "cell_type": "markdown",
   "metadata": {},
   "source": [
    "#### Country Analytics"
   ]
  },
  {
   "cell_type": "code",
   "execution_count": 10,
   "metadata": {},
   "outputs": [
    {
     "data": {
      "image/png": "[encoded data removed]",
      "text/plain": [
       "<Figure size 864x432 with 1 Axes>"
      ]
     },
     "metadata": {},
     "output_type": "display_data"
    }
   ],
   "source": [
    "plt.subplots(figsize=(12,6))\n",
    "ax=raw_data['Country'].value_counts()[:10].plot.bar(width=0.8,color='#000000')\n",
    "plt.xlabel('Country')\n",
    "plt.ylabel('Count')\n",
    "plt.show()"
   ]
  },
  {
   "cell_type": "markdown",
   "metadata": {},
   "source": [
    "Most of the participants are from the US."
   ]
  },
  {
   "cell_type": "markdown",
   "metadata": {},
   "source": [
    "#### Professions Analytics"
   ]
  },
  {
   "cell_type": "code",
   "execution_count": 11,
   "metadata": {},
   "outputs": [
    {
     "data": {
      "image/png": "[encoded data removed]",
      "text/plain": [
       "<Figure size 864x432 with 1 Axes>"
      ]
     },
     "metadata": {},
     "output_type": "display_data"
    }
   ],
   "source": [
    "plt.subplots(figsize=(12,6))\n",
    "ax=raw_data['Professional'].value_counts()[:10].plot.bar(width=0.8,color='#000000')\n",
    "plt.xlabel('Professional')\n",
    "plt.ylabel('Count')\n",
    "plt.show()"
   ]
  },
  {
   "cell_type": "markdown",
   "metadata": {},
   "source": [
    "Most participants are professional developers and are sill acitve"
   ]
  },
  {
   "cell_type": "code",
   "execution_count": 12,
   "metadata": {},
   "outputs": [
    {
     "data": {
      "image/png": "[encoded data removed]",
      "text/plain": [
       "<Figure size 864x432 with 1 Axes>"
      ]
     },
     "metadata": {},
     "output_type": "display_data"
    }
   ],
   "source": [
    "plt.subplots(figsize=(12,6))\n",
    "professionals = raw_data[raw_data['Professional']=='Professional developer']\n",
    "ax=professionals['Country'].value_counts()[:10].plot.bar(width=0.8,color='#000000')\n",
    "plt.xlabel('Country')\n",
    "plt.ylabel('Count')\n",
    "plt.show()"
   ]
  },
  {
   "cell_type": "markdown",
   "metadata": {},
   "source": [
    "The distribution of the Professional developers looks like the overall survey distribution. What kind of programming language is most commonly known?"
   ]
  },
  {
   "cell_type": "code",
   "execution_count": 13,
   "metadata": {},
   "outputs": [
    {
     "data": {
      "image/png": "[encoded data removed]",
      "text/plain": [
       "<Figure size 432x288 with 1 Axes>"
      ]
     },
     "metadata": {},
     "output_type": "display_data"
    }
   ],
   "source": [
    "professionals = raw_data[raw_data['Professional']=='Professional developer']\n",
    "professionals_US = professionals[professionals['Country'] == \"United States\"]\n",
    "languages = ['C','C++','C#','Java','Python','R','JavaScript','PHP','SQL']\n",
    "result_US={}\n",
    "for i in languages:\n",
    "    result_US[i]=(professionals_US['HaveWorkedLanguage'].apply(lambda x: i in str(x).split('; ')).value_counts()[1])\n",
    "lang_count=pd.DataFrame(list(result_US.items()))\n",
    "lang_count.columns=[['Language','Count']]\n",
    "lang_count.set_index('Language',inplace=True)    \n",
    "lang_count.plot.bar(width=0.8,color='#000000')\n",
    "plt.show()"
   ]
  },
  {
   "cell_type": "markdown",
   "metadata": {},
   "source": [
    "#### Conclusion 1\n",
    "It looks like JavaScript and SQL ist most commony known by US based professional developers. In addition, it looks like very basic languages close to HW programming  like C & C++ are not that commonly knwon. Furthermore, R - an data analytics language, looks like it is really only known by experts."
   ]
  },
  {
   "cell_type": "markdown",
   "metadata": {},
   "source": [
    "## Question 2\n",
    "Are there any correlations of the knowlede of programming languages, e.g. do most people, who knows C, know JavaScript as well?"
   ]
  },
  {
   "cell_type": "code",
   "execution_count": 58,
   "metadata": {},
   "outputs": [
    {
     "data": {
      "image/png": "[encoded data removed]",
      "text/plain": [
       "<Figure size 432x288 with 1 Axes>"
      ]
     },
     "metadata": {},
     "output_type": "display_data"
    }
   ],
   "source": [
    "result={}\n",
    "for i in languages:\n",
    "    result[i]=(professionals['HaveWorkedLanguage'].apply(lambda x: i in str(x).split('; ')).value_counts()[1])\n",
    "lang_count=pd.DataFrame(list(result.items()))\n",
    "lang_count.columns=[['Language','Count']]\n",
    "lang_count.set_index('Language',inplace=True)    \n",
    "lang_count.plot.bar(width=0.8,color='#000000')\n",
    "plt.show()"
   ]
  },
  {
   "cell_type": "code",
   "execution_count": 59,
   "metadata": {},
   "outputs": [],
   "source": [
    "for i in languages:\n",
    "    result[i]=(professionals['HaveWorkedLanguage'].apply(lambda x: i in str(x).split('; ')))"
   ]
  },
  {
   "cell_type": "markdown",
   "metadata": {},
   "source": [
    "Convert to dataframe"
   ]
  },
  {
   "cell_type": "code",
   "execution_count": 60,
   "metadata": {},
   "outputs": [
    {
     "data": {
      "text/html": [
       "<div>\n",
       "<style scoped>\n",
       "    .dataframe tbody tr th:only-of-type {\n",
       "        vertical-align: middle;\n",
       "    }\n",
       "\n",
       "    .dataframe tbody tr th {\n",
       "        vertical-align: top;\n",
       "    }\n",
       "\n",
       "    .dataframe thead th {\n",
       "        text-align: right;\n",
       "    }\n",
       "</style>\n",
       "<table border=\"1\" class=\"dataframe\">\n",
       "  <thead>\n",
       "    <tr style=\"text-align: right;\">\n",
       "      <th></th>\n",
       "      <th>C</th>\n",
       "      <th>C++</th>\n",
       "      <th>C#</th>\n",
       "      <th>Java</th>\n",
       "      <th>Python</th>\n",
       "      <th>R</th>\n",
       "      <th>JavaScript</th>\n",
       "      <th>PHP</th>\n",
       "      <th>SQL</th>\n",
       "    </tr>\n",
       "  </thead>\n",
       "  <tbody>\n",
       "    <tr>\n",
       "      <th>2</th>\n",
       "      <td>False</td>\n",
       "      <td>False</td>\n",
       "      <td>False</td>\n",
       "      <td>True</td>\n",
       "      <td>True</td>\n",
       "      <td>False</td>\n",
       "      <td>False</td>\n",
       "      <td>True</td>\n",
       "      <td>False</td>\n",
       "    </tr>\n",
       "    <tr>\n",
       "      <th>4</th>\n",
       "      <td>False</td>\n",
       "      <td>False</td>\n",
       "      <td>False</td>\n",
       "      <td>False</td>\n",
       "      <td>False</td>\n",
       "      <td>False</td>\n",
       "      <td>False</td>\n",
       "      <td>False</td>\n",
       "      <td>False</td>\n",
       "    </tr>\n",
       "    <tr>\n",
       "      <th>7</th>\n",
       "      <td>False</td>\n",
       "      <td>False</td>\n",
       "      <td>False</td>\n",
       "      <td>False</td>\n",
       "      <td>True</td>\n",
       "      <td>False</td>\n",
       "      <td>True</td>\n",
       "      <td>False</td>\n",
       "      <td>False</td>\n",
       "    </tr>\n",
       "    <tr>\n",
       "      <th>8</th>\n",
       "      <td>False</td>\n",
       "      <td>False</td>\n",
       "      <td>True</td>\n",
       "      <td>False</td>\n",
       "      <td>False</td>\n",
       "      <td>False</td>\n",
       "      <td>True</td>\n",
       "      <td>False</td>\n",
       "      <td>False</td>\n",
       "    </tr>\n",
       "    <tr>\n",
       "      <th>9</th>\n",
       "      <td>False</td>\n",
       "      <td>False</td>\n",
       "      <td>False</td>\n",
       "      <td>False</td>\n",
       "      <td>False</td>\n",
       "      <td>False</td>\n",
       "      <td>False</td>\n",
       "      <td>False</td>\n",
       "      <td>False</td>\n",
       "    </tr>\n",
       "  </tbody>\n",
       "</table>\n",
       "</div>"
      ],
      "text/plain": [
       "       C    C++     C#   Java  Python      R  JavaScript    PHP    SQL\n",
       "2  False  False  False   True    True  False       False   True  False\n",
       "4  False  False  False  False   False  False       False  False  False\n",
       "7  False  False  False  False    True  False        True  False  False\n",
       "8  False  False   True  False   False  False        True  False  False\n",
       "9  False  False  False  False   False  False       False  False  False"
      ]
     },
     "execution_count": 60,
     "metadata": {},
     "output_type": "execute_result"
    }
   ],
   "source": [
    "df = pd.DataFrame.from_dict(result)\n",
    "df.head()\n"
   ]
  },
  {
   "cell_type": "code",
   "execution_count": 61,
   "metadata": {},
   "outputs": [
    {
     "data": {
      "text/html": [
       "<div>\n",
       "<style scoped>\n",
       "    .dataframe tbody tr th:only-of-type {\n",
       "        vertical-align: middle;\n",
       "    }\n",
       "\n",
       "    .dataframe tbody tr th {\n",
       "        vertical-align: top;\n",
       "    }\n",
       "\n",
       "    .dataframe thead th {\n",
       "        text-align: right;\n",
       "    }\n",
       "</style>\n",
       "<table border=\"1\" class=\"dataframe\">\n",
       "  <thead>\n",
       "    <tr style=\"text-align: right;\">\n",
       "      <th></th>\n",
       "      <th>C</th>\n",
       "      <th>C++</th>\n",
       "      <th>C#</th>\n",
       "      <th>Java</th>\n",
       "      <th>Python</th>\n",
       "      <th>R</th>\n",
       "      <th>JavaScript</th>\n",
       "      <th>PHP</th>\n",
       "      <th>SQL</th>\n",
       "    </tr>\n",
       "  </thead>\n",
       "  <tbody>\n",
       "    <tr>\n",
       "      <th>count</th>\n",
       "      <td>36131</td>\n",
       "      <td>36131</td>\n",
       "      <td>36131</td>\n",
       "      <td>36131</td>\n",
       "      <td>36131</td>\n",
       "      <td>36131</td>\n",
       "      <td>36131</td>\n",
       "      <td>36131</td>\n",
       "      <td>36131</td>\n",
       "    </tr>\n",
       "    <tr>\n",
       "      <th>unique</th>\n",
       "      <td>2</td>\n",
       "      <td>2</td>\n",
       "      <td>2</td>\n",
       "      <td>2</td>\n",
       "      <td>2</td>\n",
       "      <td>2</td>\n",
       "      <td>2</td>\n",
       "      <td>2</td>\n",
       "      <td>2</td>\n",
       "    </tr>\n",
       "    <tr>\n",
       "      <th>top</th>\n",
       "      <td>False</td>\n",
       "      <td>False</td>\n",
       "      <td>False</td>\n",
       "      <td>False</td>\n",
       "      <td>False</td>\n",
       "      <td>False</td>\n",
       "      <td>True</td>\n",
       "      <td>False</td>\n",
       "      <td>False</td>\n",
       "    </tr>\n",
       "    <tr>\n",
       "      <th>freq</th>\n",
       "      <td>31869</td>\n",
       "      <td>30805</td>\n",
       "      <td>26002</td>\n",
       "      <td>25545</td>\n",
       "      <td>28518</td>\n",
       "      <td>35286</td>\n",
       "      <td>18421</td>\n",
       "      <td>28608</td>\n",
       "      <td>21295</td>\n",
       "    </tr>\n",
       "  </tbody>\n",
       "</table>\n",
       "</div>"
      ],
      "text/plain": [
       "            C    C++     C#   Java Python      R JavaScript    PHP    SQL\n",
       "count   36131  36131  36131  36131  36131  36131      36131  36131  36131\n",
       "unique      2      2      2      2      2      2          2      2      2\n",
       "top     False  False  False  False  False  False       True  False  False\n",
       "freq    31869  30805  26002  25545  28518  35286      18421  28608  21295"
      ]
     },
     "execution_count": 61,
     "metadata": {},
     "output_type": "execute_result"
    }
   ],
   "source": [
    "df.describe()"
   ]
  },
  {
   "cell_type": "code",
   "execution_count": 62,
   "metadata": {},
   "outputs": [],
   "source": [
    "le = preprocessing.LabelEncoder()\n",
    "for x in df.columns:\n",
    "    if df[x].dtypes=='object':\n",
    "       df[x]=le.fit_transform(df[x])\n",
    "corr = df.corr()"
   ]
  },
  {
   "cell_type": "code",
   "execution_count": 63,
   "metadata": {},
   "outputs": [
    {
     "data": {
      "text/html": [
       "<div>\n",
       "<style scoped>\n",
       "    .dataframe tbody tr th:only-of-type {\n",
       "        vertical-align: middle;\n",
       "    }\n",
       "\n",
       "    .dataframe tbody tr th {\n",
       "        vertical-align: top;\n",
       "    }\n",
       "\n",
       "    .dataframe thead th {\n",
       "        text-align: right;\n",
       "    }\n",
       "</style>\n",
       "<table border=\"1\" class=\"dataframe\">\n",
       "  <thead>\n",
       "    <tr style=\"text-align: right;\">\n",
       "      <th></th>\n",
       "      <th>C</th>\n",
       "      <th>C++</th>\n",
       "      <th>C#</th>\n",
       "      <th>Java</th>\n",
       "      <th>Python</th>\n",
       "      <th>R</th>\n",
       "      <th>JavaScript</th>\n",
       "      <th>PHP</th>\n",
       "      <th>SQL</th>\n",
       "    </tr>\n",
       "  </thead>\n",
       "  <tbody>\n",
       "    <tr>\n",
       "      <th>C</th>\n",
       "      <td>1.000000</td>\n",
       "      <td>0.522492</td>\n",
       "      <td>0.062694</td>\n",
       "      <td>0.147857</td>\n",
       "      <td>0.243220</td>\n",
       "      <td>0.083076</td>\n",
       "      <td>0.033481</td>\n",
       "      <td>0.070918</td>\n",
       "      <td>0.054933</td>\n",
       "    </tr>\n",
       "    <tr>\n",
       "      <th>C++</th>\n",
       "      <td>0.522492</td>\n",
       "      <td>1.000000</td>\n",
       "      <td>0.124433</td>\n",
       "      <td>0.147268</td>\n",
       "      <td>0.246724</td>\n",
       "      <td>0.070999</td>\n",
       "      <td>0.023050</td>\n",
       "      <td>0.050579</td>\n",
       "      <td>0.049522</td>\n",
       "    </tr>\n",
       "    <tr>\n",
       "      <th>C#</th>\n",
       "      <td>0.062694</td>\n",
       "      <td>0.124433</td>\n",
       "      <td>1.000000</td>\n",
       "      <td>0.003562</td>\n",
       "      <td>-0.017865</td>\n",
       "      <td>0.029402</td>\n",
       "      <td>0.255378</td>\n",
       "      <td>0.000303</td>\n",
       "      <td>0.340802</td>\n",
       "    </tr>\n",
       "    <tr>\n",
       "      <th>Java</th>\n",
       "      <td>0.147857</td>\n",
       "      <td>0.147268</td>\n",
       "      <td>0.003562</td>\n",
       "      <td>1.000000</td>\n",
       "      <td>0.163054</td>\n",
       "      <td>0.059320</td>\n",
       "      <td>0.205440</td>\n",
       "      <td>0.089089</td>\n",
       "      <td>0.205594</td>\n",
       "    </tr>\n",
       "    <tr>\n",
       "      <th>Python</th>\n",
       "      <td>0.243220</td>\n",
       "      <td>0.246724</td>\n",
       "      <td>-0.017865</td>\n",
       "      <td>0.163054</td>\n",
       "      <td>1.000000</td>\n",
       "      <td>0.161644</td>\n",
       "      <td>0.151726</td>\n",
       "      <td>0.088232</td>\n",
       "      <td>0.127193</td>\n",
       "    </tr>\n",
       "    <tr>\n",
       "      <th>R</th>\n",
       "      <td>0.083076</td>\n",
       "      <td>0.070999</td>\n",
       "      <td>0.029402</td>\n",
       "      <td>0.059320</td>\n",
       "      <td>0.161644</td>\n",
       "      <td>1.000000</td>\n",
       "      <td>0.043296</td>\n",
       "      <td>0.024382</td>\n",
       "      <td>0.081909</td>\n",
       "    </tr>\n",
       "    <tr>\n",
       "      <th>JavaScript</th>\n",
       "      <td>0.033481</td>\n",
       "      <td>0.023050</td>\n",
       "      <td>0.255378</td>\n",
       "      <td>0.205440</td>\n",
       "      <td>0.151726</td>\n",
       "      <td>0.043296</td>\n",
       "      <td>1.000000</td>\n",
       "      <td>0.363727</td>\n",
       "      <td>0.446234</td>\n",
       "    </tr>\n",
       "    <tr>\n",
       "      <th>PHP</th>\n",
       "      <td>0.070918</td>\n",
       "      <td>0.050579</td>\n",
       "      <td>0.000303</td>\n",
       "      <td>0.089089</td>\n",
       "      <td>0.088232</td>\n",
       "      <td>0.024382</td>\n",
       "      <td>0.363727</td>\n",
       "      <td>1.000000</td>\n",
       "      <td>0.322285</td>\n",
       "    </tr>\n",
       "    <tr>\n",
       "      <th>SQL</th>\n",
       "      <td>0.054933</td>\n",
       "      <td>0.049522</td>\n",
       "      <td>0.340802</td>\n",
       "      <td>0.205594</td>\n",
       "      <td>0.127193</td>\n",
       "      <td>0.081909</td>\n",
       "      <td>0.446234</td>\n",
       "      <td>0.322285</td>\n",
       "      <td>1.000000</td>\n",
       "    </tr>\n",
       "  </tbody>\n",
       "</table>\n",
       "</div>"
      ],
      "text/plain": [
       "                   C       C++        C#      Java    Python         R  \\\n",
       "C           1.000000  0.522492  0.062694  0.147857  0.243220  0.083076   \n",
       "C++         0.522492  1.000000  0.124433  0.147268  0.246724  0.070999   \n",
       "C#          0.062694  0.124433  1.000000  0.003562 -0.017865  0.029402   \n",
       "Java        0.147857  0.147268  0.003562  1.000000  0.163054  0.059320   \n",
       "Python      0.243220  0.246724 -0.017865  0.163054  1.000000  0.161644   \n",
       "R           0.083076  0.070999  0.029402  0.059320  0.161644  1.000000   \n",
       "JavaScript  0.033481  0.023050  0.255378  0.205440  0.151726  0.043296   \n",
       "PHP         0.070918  0.050579  0.000303  0.089089  0.088232  0.024382   \n",
       "SQL         0.054933  0.049522  0.340802  0.205594  0.127193  0.081909   \n",
       "\n",
       "            JavaScript       PHP       SQL  \n",
       "C             0.033481  0.070918  0.054933  \n",
       "C++           0.023050  0.050579  0.049522  \n",
       "C#            0.255378  0.000303  0.340802  \n",
       "Java          0.205440  0.089089  0.205594  \n",
       "Python        0.151726  0.088232  0.127193  \n",
       "R             0.043296  0.024382  0.081909  \n",
       "JavaScript    1.000000  0.363727  0.446234  \n",
       "PHP           0.363727  1.000000  0.322285  \n",
       "SQL           0.446234  0.322285  1.000000  "
      ]
     },
     "execution_count": 63,
     "metadata": {},
     "output_type": "execute_result"
    }
   ],
   "source": [
    "corr"
   ]
  },
  {
   "cell_type": "code",
   "execution_count": 64,
   "metadata": {},
   "outputs": [
    {
     "data": {
      "text/plain": [
       "<Figure size 1296x1296 with 0 Axes>"
      ]
     },
     "metadata": {},
     "output_type": "display_data"
    },
    {
     "data": {
      "image/png": "[encoded data removed]",
      "text/plain": [
       "<Figure size 288x288 with 2 Axes>"
      ]
     },
     "metadata": {},
     "output_type": "display_data"
    }
   ],
   "source": [
    "plt.figure(figsize=(18, 18))\n",
    "plt.matshow(corr)\n",
    "plt.xticks(range(corr.shape[1]), corr.columns, fontsize=12, rotation=45)\n",
    "plt.yticks(range(corr.shape[1]), corr.columns, fontsize=12)\n",
    "\n",
    "cb = plt.colorbar()\n",
    "cb.ax.tick_params(labelsize=12)"
   ]
  },
  {
   "cell_type": "markdown",
   "metadata": {},
   "source": [
    "#### Conclusion 2\n",
    "\n",
    "The correlation matrix already gives the answer, if and yes where developers have clusters of skills. The basic results are:\n",
    "- In general, there are no big correlations. This means, that there are no big cluster of \"if a developfer knows language 1, then he knows language 2\"\n",
    "- There are only 2 meaningful correlations between\n",
    "    - C and C++, having around 50 % of the people knowing both of the languages and\n",
    "    - in terms of the often in web development used languages JavaScript, PHP and SQL. Anyway, they just overlap by about 30 %.\n",
    "    \n"
   ]
  },
  {
   "cell_type": "markdown",
   "metadata": {},
   "source": [
    "## Question 3\n",
    "How the correlation distribution of programming languages differ in Germany in contrast to the overall survey results?"
   ]
  },
  {
   "cell_type": "code",
   "execution_count": 69,
   "metadata": {},
   "outputs": [],
   "source": [
    "professionals_lan = professionals.join(df)\n",
    "professionals_lan_ger = professionals_lan[professionals_lan[\"Country\"]==\"Germany\"]\n",
    "professionals_lan_ger_subeset=professionals_lan_ger[languages]"
   ]
  },
  {
   "cell_type": "code",
   "execution_count": 74,
   "metadata": {},
   "outputs": [],
   "source": [
    "\n",
    "le_ger = preprocessing.LabelEncoder()\n",
    "for x in professionals_lan_ger_subeset.columns:\n",
    "    if professionals_lan_ger_subeset[x].dtypes=='object':\n",
    "       professionals_lan_ger_subeset[x]=le_ger.fit_transform(professionals_lan_ger[x])\n",
    "corr_ger = professionals_lan_ger_subeset.corr()"
   ]
  },
  {
   "cell_type": "code",
   "execution_count": 75,
   "metadata": {},
   "outputs": [
    {
     "data": {
      "text/html": [
       "<div>\n",
       "<style scoped>\n",
       "    .dataframe tbody tr th:only-of-type {\n",
       "        vertical-align: middle;\n",
       "    }\n",
       "\n",
       "    .dataframe tbody tr th {\n",
       "        vertical-align: top;\n",
       "    }\n",
       "\n",
       "    .dataframe thead th {\n",
       "        text-align: right;\n",
       "    }\n",
       "</style>\n",
       "<table border=\"1\" class=\"dataframe\">\n",
       "  <thead>\n",
       "    <tr style=\"text-align: right;\">\n",
       "      <th></th>\n",
       "      <th>C</th>\n",
       "      <th>C++</th>\n",
       "      <th>C#</th>\n",
       "      <th>Java</th>\n",
       "      <th>Python</th>\n",
       "      <th>R</th>\n",
       "      <th>JavaScript</th>\n",
       "      <th>PHP</th>\n",
       "      <th>SQL</th>\n",
       "    </tr>\n",
       "  </thead>\n",
       "  <tbody>\n",
       "    <tr>\n",
       "      <th>C</th>\n",
       "      <td>1.000000</td>\n",
       "      <td>0.528659</td>\n",
       "      <td>0.110206</td>\n",
       "      <td>0.119500</td>\n",
       "      <td>0.230659</td>\n",
       "      <td>0.040453</td>\n",
       "      <td>0.000272</td>\n",
       "      <td>0.045893</td>\n",
       "      <td>0.070811</td>\n",
       "    </tr>\n",
       "    <tr>\n",
       "      <th>C++</th>\n",
       "      <td>0.528659</td>\n",
       "      <td>1.000000</td>\n",
       "      <td>0.172478</td>\n",
       "      <td>0.109120</td>\n",
       "      <td>0.279006</td>\n",
       "      <td>0.035519</td>\n",
       "      <td>-0.008573</td>\n",
       "      <td>0.028784</td>\n",
       "      <td>0.065290</td>\n",
       "    </tr>\n",
       "    <tr>\n",
       "      <th>C#</th>\n",
       "      <td>0.110206</td>\n",
       "      <td>0.172478</td>\n",
       "      <td>1.000000</td>\n",
       "      <td>0.035364</td>\n",
       "      <td>-0.012507</td>\n",
       "      <td>-0.000875</td>\n",
       "      <td>0.134262</td>\n",
       "      <td>0.074905</td>\n",
       "      <td>0.279816</td>\n",
       "    </tr>\n",
       "    <tr>\n",
       "      <th>Java</th>\n",
       "      <td>0.119500</td>\n",
       "      <td>0.109120</td>\n",
       "      <td>0.035364</td>\n",
       "      <td>1.000000</td>\n",
       "      <td>0.113232</td>\n",
       "      <td>0.060474</td>\n",
       "      <td>0.266086</td>\n",
       "      <td>0.105840</td>\n",
       "      <td>0.262307</td>\n",
       "    </tr>\n",
       "    <tr>\n",
       "      <th>Python</th>\n",
       "      <td>0.230659</td>\n",
       "      <td>0.279006</td>\n",
       "      <td>-0.012507</td>\n",
       "      <td>0.113232</td>\n",
       "      <td>1.000000</td>\n",
       "      <td>0.091518</td>\n",
       "      <td>0.158964</td>\n",
       "      <td>0.067815</td>\n",
       "      <td>0.120353</td>\n",
       "    </tr>\n",
       "    <tr>\n",
       "      <th>R</th>\n",
       "      <td>0.040453</td>\n",
       "      <td>0.035519</td>\n",
       "      <td>-0.000875</td>\n",
       "      <td>0.060474</td>\n",
       "      <td>0.091518</td>\n",
       "      <td>1.000000</td>\n",
       "      <td>0.037518</td>\n",
       "      <td>0.035023</td>\n",
       "      <td>0.052501</td>\n",
       "    </tr>\n",
       "    <tr>\n",
       "      <th>JavaScript</th>\n",
       "      <td>0.000272</td>\n",
       "      <td>-0.008573</td>\n",
       "      <td>0.134262</td>\n",
       "      <td>0.266086</td>\n",
       "      <td>0.158964</td>\n",
       "      <td>0.037518</td>\n",
       "      <td>1.000000</td>\n",
       "      <td>0.433516</td>\n",
       "      <td>0.386998</td>\n",
       "    </tr>\n",
       "    <tr>\n",
       "      <th>PHP</th>\n",
       "      <td>0.045893</td>\n",
       "      <td>0.028784</td>\n",
       "      <td>0.074905</td>\n",
       "      <td>0.105840</td>\n",
       "      <td>0.067815</td>\n",
       "      <td>0.035023</td>\n",
       "      <td>0.433516</td>\n",
       "      <td>1.000000</td>\n",
       "      <td>0.357361</td>\n",
       "    </tr>\n",
       "    <tr>\n",
       "      <th>SQL</th>\n",
       "      <td>0.070811</td>\n",
       "      <td>0.065290</td>\n",
       "      <td>0.279816</td>\n",
       "      <td>0.262307</td>\n",
       "      <td>0.120353</td>\n",
       "      <td>0.052501</td>\n",
       "      <td>0.386998</td>\n",
       "      <td>0.357361</td>\n",
       "      <td>1.000000</td>\n",
       "    </tr>\n",
       "  </tbody>\n",
       "</table>\n",
       "</div>"
      ],
      "text/plain": [
       "                   C       C++        C#      Java    Python         R  \\\n",
       "C           1.000000  0.528659  0.110206  0.119500  0.230659  0.040453   \n",
       "C++         0.528659  1.000000  0.172478  0.109120  0.279006  0.035519   \n",
       "C#          0.110206  0.172478  1.000000  0.035364 -0.012507 -0.000875   \n",
       "Java        0.119500  0.109120  0.035364  1.000000  0.113232  0.060474   \n",
       "Python      0.230659  0.279006 -0.012507  0.113232  1.000000  0.091518   \n",
       "R           0.040453  0.035519 -0.000875  0.060474  0.091518  1.000000   \n",
       "JavaScript  0.000272 -0.008573  0.134262  0.266086  0.158964  0.037518   \n",
       "PHP         0.045893  0.028784  0.074905  0.105840  0.067815  0.035023   \n",
       "SQL         0.070811  0.065290  0.279816  0.262307  0.120353  0.052501   \n",
       "\n",
       "            JavaScript       PHP       SQL  \n",
       "C             0.000272  0.045893  0.070811  \n",
       "C++          -0.008573  0.028784  0.065290  \n",
       "C#            0.134262  0.074905  0.279816  \n",
       "Java          0.266086  0.105840  0.262307  \n",
       "Python        0.158964  0.067815  0.120353  \n",
       "R             0.037518  0.035023  0.052501  \n",
       "JavaScript    1.000000  0.433516  0.386998  \n",
       "PHP           0.433516  1.000000  0.357361  \n",
       "SQL           0.386998  0.357361  1.000000  "
      ]
     },
     "execution_count": 75,
     "metadata": {},
     "output_type": "execute_result"
    }
   ],
   "source": [
    "corr_ger"
   ]
  },
  {
   "cell_type": "code",
   "execution_count": 76,
   "metadata": {},
   "outputs": [],
   "source": [
    "corr_dif = abs(corr_ger-corr)"
   ]
  },
  {
   "cell_type": "code",
   "execution_count": 77,
   "metadata": {},
   "outputs": [
    {
     "data": {
      "text/html": [
       "<div>\n",
       "<style scoped>\n",
       "    .dataframe tbody tr th:only-of-type {\n",
       "        vertical-align: middle;\n",
       "    }\n",
       "\n",
       "    .dataframe tbody tr th {\n",
       "        vertical-align: top;\n",
       "    }\n",
       "\n",
       "    .dataframe thead th {\n",
       "        text-align: right;\n",
       "    }\n",
       "</style>\n",
       "<table border=\"1\" class=\"dataframe\">\n",
       "  <thead>\n",
       "    <tr style=\"text-align: right;\">\n",
       "      <th></th>\n",
       "      <th>C</th>\n",
       "      <th>C++</th>\n",
       "      <th>C#</th>\n",
       "      <th>Java</th>\n",
       "      <th>Python</th>\n",
       "      <th>R</th>\n",
       "      <th>JavaScript</th>\n",
       "      <th>PHP</th>\n",
       "      <th>SQL</th>\n",
       "    </tr>\n",
       "  </thead>\n",
       "  <tbody>\n",
       "    <tr>\n",
       "      <th>C</th>\n",
       "      <td>0.000000</td>\n",
       "      <td>0.006167</td>\n",
       "      <td>0.047512</td>\n",
       "      <td>0.028356</td>\n",
       "      <td>0.012561</td>\n",
       "      <td>0.042623</td>\n",
       "      <td>0.033209</td>\n",
       "      <td>0.025026</td>\n",
       "      <td>0.015878</td>\n",
       "    </tr>\n",
       "    <tr>\n",
       "      <th>C++</th>\n",
       "      <td>0.006167</td>\n",
       "      <td>0.000000</td>\n",
       "      <td>0.048045</td>\n",
       "      <td>0.038148</td>\n",
       "      <td>0.032282</td>\n",
       "      <td>0.035480</td>\n",
       "      <td>0.031623</td>\n",
       "      <td>0.021794</td>\n",
       "      <td>0.015767</td>\n",
       "    </tr>\n",
       "    <tr>\n",
       "      <th>C#</th>\n",
       "      <td>0.047512</td>\n",
       "      <td>0.048045</td>\n",
       "      <td>0.000000</td>\n",
       "      <td>0.031802</td>\n",
       "      <td>0.005358</td>\n",
       "      <td>0.030276</td>\n",
       "      <td>0.121116</td>\n",
       "      <td>0.074603</td>\n",
       "      <td>0.060986</td>\n",
       "    </tr>\n",
       "    <tr>\n",
       "      <th>Java</th>\n",
       "      <td>0.028356</td>\n",
       "      <td>0.038148</td>\n",
       "      <td>0.031802</td>\n",
       "      <td>0.000000</td>\n",
       "      <td>0.049822</td>\n",
       "      <td>0.001154</td>\n",
       "      <td>0.060647</td>\n",
       "      <td>0.016751</td>\n",
       "      <td>0.056713</td>\n",
       "    </tr>\n",
       "    <tr>\n",
       "      <th>Python</th>\n",
       "      <td>0.012561</td>\n",
       "      <td>0.032282</td>\n",
       "      <td>0.005358</td>\n",
       "      <td>0.049822</td>\n",
       "      <td>0.000000</td>\n",
       "      <td>0.070126</td>\n",
       "      <td>0.007237</td>\n",
       "      <td>0.020417</td>\n",
       "      <td>0.006840</td>\n",
       "    </tr>\n",
       "    <tr>\n",
       "      <th>R</th>\n",
       "      <td>0.042623</td>\n",
       "      <td>0.035480</td>\n",
       "      <td>0.030276</td>\n",
       "      <td>0.001154</td>\n",
       "      <td>0.070126</td>\n",
       "      <td>0.000000</td>\n",
       "      <td>0.005778</td>\n",
       "      <td>0.010641</td>\n",
       "      <td>0.029408</td>\n",
       "    </tr>\n",
       "    <tr>\n",
       "      <th>JavaScript</th>\n",
       "      <td>0.033209</td>\n",
       "      <td>0.031623</td>\n",
       "      <td>0.121116</td>\n",
       "      <td>0.060647</td>\n",
       "      <td>0.007237</td>\n",
       "      <td>0.005778</td>\n",
       "      <td>0.000000</td>\n",
       "      <td>0.069789</td>\n",
       "      <td>0.059236</td>\n",
       "    </tr>\n",
       "    <tr>\n",
       "      <th>PHP</th>\n",
       "      <td>0.025026</td>\n",
       "      <td>0.021794</td>\n",
       "      <td>0.074603</td>\n",
       "      <td>0.016751</td>\n",
       "      <td>0.020417</td>\n",
       "      <td>0.010641</td>\n",
       "      <td>0.069789</td>\n",
       "      <td>0.000000</td>\n",
       "      <td>0.035076</td>\n",
       "    </tr>\n",
       "    <tr>\n",
       "      <th>SQL</th>\n",
       "      <td>0.015878</td>\n",
       "      <td>0.015767</td>\n",
       "      <td>0.060986</td>\n",
       "      <td>0.056713</td>\n",
       "      <td>0.006840</td>\n",
       "      <td>0.029408</td>\n",
       "      <td>0.059236</td>\n",
       "      <td>0.035076</td>\n",
       "      <td>0.000000</td>\n",
       "    </tr>\n",
       "  </tbody>\n",
       "</table>\n",
       "</div>"
      ],
      "text/plain": [
       "                   C       C++        C#      Java    Python         R  \\\n",
       "C           0.000000  0.006167  0.047512  0.028356  0.012561  0.042623   \n",
       "C++         0.006167  0.000000  0.048045  0.038148  0.032282  0.035480   \n",
       "C#          0.047512  0.048045  0.000000  0.031802  0.005358  0.030276   \n",
       "Java        0.028356  0.038148  0.031802  0.000000  0.049822  0.001154   \n",
       "Python      0.012561  0.032282  0.005358  0.049822  0.000000  0.070126   \n",
       "R           0.042623  0.035480  0.030276  0.001154  0.070126  0.000000   \n",
       "JavaScript  0.033209  0.031623  0.121116  0.060647  0.007237  0.005778   \n",
       "PHP         0.025026  0.021794  0.074603  0.016751  0.020417  0.010641   \n",
       "SQL         0.015878  0.015767  0.060986  0.056713  0.006840  0.029408   \n",
       "\n",
       "            JavaScript       PHP       SQL  \n",
       "C             0.033209  0.025026  0.015878  \n",
       "C++           0.031623  0.021794  0.015767  \n",
       "C#            0.121116  0.074603  0.060986  \n",
       "Java          0.060647  0.016751  0.056713  \n",
       "Python        0.007237  0.020417  0.006840  \n",
       "R             0.005778  0.010641  0.029408  \n",
       "JavaScript    0.000000  0.069789  0.059236  \n",
       "PHP           0.069789  0.000000  0.035076  \n",
       "SQL           0.059236  0.035076  0.000000  "
      ]
     },
     "execution_count": 77,
     "metadata": {},
     "output_type": "execute_result"
    }
   ],
   "source": [
    "corr_dif"
   ]
  },
  {
   "cell_type": "code",
   "execution_count": 78,
   "metadata": {},
   "outputs": [
    {
     "data": {
      "text/plain": [
       "<Figure size 1296x1296 with 0 Axes>"
      ]
     },
     "metadata": {},
     "output_type": "display_data"
    },
    {
     "data": {
      "image/png": "[encoded data removed]",
      "text/plain": [
       "<Figure size 288x288 with 2 Axes>"
      ]
     },
     "metadata": {},
     "output_type": "display_data"
    }
   ],
   "source": [
    "plt.figure(figsize=(18, 18))\n",
    "plt.matshow(corr_dif)\n",
    "plt.xticks(range(corr.shape[1]), corr.columns, fontsize=12, rotation=45)\n",
    "plt.yticks(range(corr.shape[1]), corr.columns, fontsize=12)\n",
    "\n",
    "cb = plt.colorbar()\n",
    "cb.ax.tick_params(labelsize=12)"
   ]
  },
  {
   "cell_type": "markdown",
   "metadata": {},
   "source": [
    "#### Conclusion 3\n",
    "\n",
    "One the first look, the correlation of developing languages know-how differs not much in Germany to the rest of the world. But, having a deeper, more specific look into the differences\n"
   ]
  },
  {
   "cell_type": "code",
   "execution_count": null,
   "metadata": {},
   "outputs": [],
   "source": []
  }
 ],
 "metadata": {
  "kernelspec": {
   "display_name": "Python 3",
   "language": "python",
   "name": "python3"
  },
  "language_info": {
   "codemirror_mode": {
    "name": "ipython",
    "version": 3
   },
   "file_extension": ".py",
   "mimetype": "text/x-python",
   "name": "python",
   "nbconvert_exporter": "python",
   "pygments_lexer": "ipython3",
   "version": "3.6.5"
  }
 },
 "nbformat": 4,
 "nbformat_minor": 2
}
